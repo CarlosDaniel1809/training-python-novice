{
 "cells": [
  {
   "cell_type": "markdown",
   "id": "36751030-0009-49fb-9f87-597877372d1a",
   "metadata": {},
   "source": [
    "# Sesion 3 : \n",
    "   ## - Funciones Integradas y ayuda\n",
    "   ## - Bibliotecas escritas en Python\n",
    "   \n",
    "   \n",
    "   \n",
    "   \n",
    "   "
   ]
  },
  {
   "cell_type": "markdown",
   "id": "31d47a25-8d33-408c-a62f-0fda2330f9b3",
   "metadata": {},
   "source": [
    "#####################################"
   ]
  },
  {
   "cell_type": "markdown",
   "id": "7f1e09ec-9b86-45d4-b385-9aaa7e7f91ae",
   "metadata": {},
   "source": [
    "##  Funciones\n",
    "Las funciones son bloques de código que se ejecutan cuando se llaman y realizan una tarea específica. Las funciones son beneficiosas porque podemos reutilizar el código para tareas repetitivas.\n",
    "Aprendimos sobre varias funciones integradas de Python en la Sesión 2:\n",
    "* print(): La función de print \"imprimirá\" (o mostrará) datos al usuario\n",
    "* len(): Encuentra la longitud de los caracteres de un string\n",
    "* type(): Verificar el tipo de datos del valor que se asigna a una variable.\n",
    "    - Cadena de caracteres, llamado string, (str).\n",
    "    - Entero o intergers (int).\n",
    "    - Número de punto flotante (float).\n",
    "* str(): En la Sesión 2, practicamos la concatenación cuando una variable se le asigna un valor entero o flotante. Como no podemos concatenar un entero o un flotante con una cadena, demostramos cómo covertimos el numero a una string, usando la función str ().\n",
    "\n",
    " "
   ]
  },
  {
   "cell_type": "code",
   "execution_count": null,
   "id": "c55f7edf-97fb-4bf6-8fe2-2bd670ea300a",
   "metadata": {},
   "outputs": [],
   "source": [
    "#Ejemplo función str() si se hace con una concatenacion\n",
    "texto1 = \"Mi gato tiene\"\n",
    "edad = 2\n",
    "texto2 = \"años.\"\n",
    "\n",
    "frase = texto1 + \" \" + edad + \" \" + texto2\n",
    "print(frase)"
   ]
  },
  {
   "cell_type": "markdown",
   "id": "3c57d039-1092-48c6-9f3f-2e885009ed49",
   "metadata": {},
   "source": [
    "### Argumento\n",
    " Un argumento son valores pasados a una función. Una función puede tener cero o más argumentos.\n",
    "* print() toma cero o más argumentos y print() sin argumentos imprime una línea en blanco.\n",
    "* len() toma exactamente un argumento.\n",
    "* int, str, y float crean un nuevo valor a partir de uno existente.\n"
   ]
  },
  {
   "cell_type": "code",
   "execution_count": null,
   "id": "2f8dcb95-4a6c-4c0b-a3d7-6c794f84a012",
   "metadata": {},
   "outputs": [],
   "source": [
    "# Ejemplo argumento, imprimir textos y numeros dentro de la misma linea de codigo\n",
    "edad = 2\n",
    "print(\"Mi gato tiene\", edad, \"años.\")"
   ]
  },
  {
   "cell_type": "code",
   "execution_count": null,
   "id": "be0e7702-44bc-4ac4-a215-70bacba5a43f",
   "metadata": {},
   "outputs": [],
   "source": [
    "# Siempre se debe usar paréntesis, incluso si están vacíos, para que Python sepa que se está llamando a una función\n",
    "print('before')\n",
    "print()\n",
    "print('after')"
   ]
  },
  {
   "cell_type": "markdown",
   "id": "0567fab5-1444-4db9-846b-a325f7755b11",
   "metadata": {},
   "source": [
    "### Las funciones integradas de uso común incluyen max, min y round.\n",
    "* Usa max para encontrar el valor más grande de uno o más conjuntos de valores.\n",
    "* Usa min para encontrar el valor minimo de un conjunto de valores.\n",
    "* Ambos funcionan tanto en cadenas de caracteres como en números.\n",
    "* Los valores “Más grande” y “más pequeño” usan (0-9, A-Z, a-z) para comparar letras, \n"
   ]
  },
  {
   "cell_type": "code",
   "execution_count": null,
   "id": "f673c30c-3d9e-4db9-89cc-63cf64ef9889",
   "metadata": {},
   "outputs": [],
   "source": [
    "# El valor máximo corresponde al último valor en orden numerico o alfabético, sin importar la longitud de la cadena.\n",
    "print(max(1, 2, 3))\n",
    "print(max(\"David\", \"Alicia\", \"Maya\", \"Emilio\"))\n",
    "# el valor mínimo corresponde al primer valor en orden alfabético, sin importar la longitud de la cadena.\n",
    "print(min('a', 'A'))\n",
    "print(min('a', 'A', '0'))\n",
    "# Las vocales acentuadas, la letra ñ o ç se consideran posteriores al resto de vocales y consonantes\n",
    "print(min(\"Ángeles\", \"Daniel\"))\n"
   ]
  },
  {
   "cell_type": "code",
   "execution_count": null,
   "id": "4095b5b6-eac0-4809-b461-e8376f1e8b0d",
   "metadata": {},
   "outputs": [],
   "source": [
    "# Ejercicios  max(), min() \n",
    "print(max(4, 5, -2, 8, 3.5, -10))\n",
    "\n",
    "print(min(\"David\", \"Alicia\", \"Oscar\", \"Emilio\"))\n"
   ]
  },
  {
   "cell_type": "code",
   "execution_count": null,
   "id": "da3efd34-61c8-4e85-8ad0-75363d3f3caa",
   "metadata": {},
   "outputs": [],
   "source": [
    "# Las funciones pueden ejecutar solo para combinaciones de ciertos argumentos.\n",
    "# max() y min() deben recibir al menos un argumento y deben recibir cosas que puedan compararse con sentido.\n",
    "\n",
    "print(max(1, 'a', -4))"
   ]
  },
  {
   "cell_type": "markdown",
   "id": "8e78ad24-591c-44e6-9ffd-fd6a65f94739",
   "metadata": {},
   "source": [
    "### La función integrada round()\n",
    "* La función integrada round() redondeará un número de punto flotante. \n",
    "* round() admite uno o dos argumentos numéricos.\n",
    "* Por defecto, redondea a cero cifras decimales.\n"
   ]
  },
  {
   "cell_type": "code",
   "execution_count": null,
   "id": "c1de0cb1-392f-4b4c-8422-b43edabe31e7",
   "metadata": {},
   "outputs": [],
   "source": [
    "# Si sólo hay un argumento, la función devuelve el argumento redondeado al entero más próximo\n",
    "print(round(-4.35))\n",
    "print(round(3.712))"
   ]
  },
  {
   "cell_type": "code",
   "execution_count": null,
   "id": "3a330c3d-f782-4522-a860-817e7f25260d",
   "metadata": {
    "tags": []
   },
   "outputs": [],
   "source": [
    "# Si se escriben dos argumentos, siendo el segundo un número entero y positivo, la función integrada round() \n",
    "# devuelve el primer argumento redondeado en la posición indicada por el segundo argumento\n",
    " # print(round(4.3527)\n",
    "print(round(4.3527, 2))\n",
    "print(round(4.3527, 1))\n",
    "print(round(4.3527, 3))"
   ]
  },
  {
   "cell_type": "code",
   "execution_count": null,
   "id": "f0375aaf-a664-46ea-847f-0be9b2c6fa28",
   "metadata": {},
   "outputs": [],
   "source": [
    "# Si el segundo argumento es negativo, se redondea a decenas, centenas, etc.\n",
    "print(round(43527, -1))\n",
    "print(round(43527, -2))\n",
    "print(round(43527, -3))\n",
    "print(round(43527, -4))\n"
   ]
  },
  {
   "cell_type": "code",
   "execution_count": null,
   "id": "c94738c8-5c92-4e2d-b254-fc6b276bd109",
   "metadata": {},
   "outputs": [],
   "source": [
    "# Ejercicio  devuelve el primer argumento redondeado (tau =  6.28318) en la sgunda posición indicada por el segundo argumento.\n"
   ]
  },
  {
   "cell_type": "markdown",
   "id": "ac3ffd71-e02d-4787-b29d-419af08936dd",
   "metadata": {},
   "source": [
    "### Usa la función integrada help() \n",
    "* Ayuda a obtener informacion sobre una función."
   ]
  },
  {
   "cell_type": "code",
   "execution_count": null,
   "id": "571a34be-6fc0-4822-bf29-764a0d73af9d",
   "metadata": {},
   "outputs": [],
   "source": [
    "help(round)"
   ]
  },
  {
   "cell_type": "code",
   "execution_count": null,
   "id": "f7d77755-5eec-40c8-b8e1-98337ba62c3a",
   "metadata": {},
   "outputs": [],
   "source": [
    "# consulta la informaion de la funcion max\n"
   ]
  },
  {
   "cell_type": "markdown",
   "id": "f4462c53-1c15-4f75-948b-624a68820352",
   "metadata": {},
   "source": [
    "### Errores frecuentes\n",
    "* Python reporta un error de sintaxis cuando no puede entender la fuente de un programa."
   ]
  },
  {
   "cell_type": "code",
   "execution_count": null,
   "id": "cb1dfeae-a704-4b9a-967f-ceab2cbdd9b6",
   "metadata": {},
   "outputs": [],
   "source": [
    "# Olvidar cerrar las comillas alrededor de la cadena de caracteres.\n",
    "name = 'Feng\n"
   ]
  },
  {
   "cell_type": "code",
   "execution_count": null,
   "id": "4daecbc1-38ee-4222-958f-5cae39ab6e13",
   "metadata": {},
   "outputs": [],
   "source": [
    "# Un '=' adicional en la asignación.\n",
    "age = = 52\n"
   ]
  },
  {
   "cell_type": "code",
   "execution_count": null,
   "id": "16a88262-6e9d-4279-ab86-993614c79d38",
   "metadata": {},
   "outputs": [],
   "source": [
    "# falta cerrar un parentesis\n",
    "print(\"hola mundo\""
   ]
  },
  {
   "cell_type": "code",
   "execution_count": null,
   "id": "2dd40044-ba24-4bb2-9068-ad50e67aef9f",
   "metadata": {},
   "outputs": [],
   "source": [
    "# Python reporta un error de tiempo de ejecución cuando algo anda mal mientras un programa se está ejecutando.\n",
    "age = 53\n",
    "remaining = 100 - aege # mal escrito 'age'"
   ]
  },
  {
   "cell_type": "markdown",
   "id": "a3b54120-7003-436b-a782-034dbfd830db",
   "metadata": {},
   "source": [
    "# Cada función devuelve algo."
   ]
  },
  {
   "cell_type": "code",
   "execution_count": null,
   "id": "aae7ff92-8a35-4f99-9585-b6d03454000e",
   "metadata": {},
   "outputs": [],
   "source": [
    "# Cada que llamamos a una función se produce algún resultado.\n",
    "# Si la función no tiene un resultado útil que devolver, usualmente devuelve el valor especial None.\n",
    "result = print('ejemplo')\n",
    "print('el resultado de print es', result)"
   ]
  },
  {
   "cell_type": "code",
   "execution_count": null,
   "id": "2187cc4a-140c-43b6-b184-ba098d9d317b",
   "metadata": {},
   "outputs": [],
   "source": [
    "# Ejercicio\n",
    "# Explica en términos simples el orden de operaciones en el siguiente programa: \n",
    "# cuándo ocurre la adición y cuándo la sustracción?, cuándo es llamada cada función?, etc.\n",
    "radiance = 1.0\n",
    "radiance = max(2.1, 2.0 + min(radiance, 1.1 * radiance - 0.5))\n",
    "print(radiance)\n",
    "# 1. 1.1 * radiance = 1.1\n",
    "# 2. 1.1 - 0.5 = 0.6\n",
    "# 3. min(radiance, 0.6) = 0.6\n",
    "# 4. 2.0 + 0.6 = 2.6\n",
    "# 5. max(2.1, 2.6) = 2.6\n",
    "# Al final, radiance = 2.6"
   ]
  },
  {
   "cell_type": "markdown",
   "id": "4f667ba8-c387-410d-8da5-b69a58f064d8",
   "metadata": {},
   "source": [
    "##  Bibliotecas Python\n",
    "\n",
    "Al igual que el significado de la palabra biblioteca, una biblioteca de Python es una colección de funciones y paquetes que se pueden importar para ejecutar.\n",
    "\n",
    "Solo imagina que necesitas un fragmento especifico de un libro para resolver un problema. Importar una función desde una biblioteca de Python es así, ¡excepto que no necesita perder tiempo buscando el libro y hojeando las páginas!"
   ]
  },
  {
   "cell_type": "markdown",
   "id": "c62a5843-3318-4411-ba0f-47691b843fff",
   "metadata": {},
   "source": [
    "### Gran parte del poder de un lenguaje de programación está en sus bibliotecas.\n",
    "* Una biblioteca es una colección de archivos (llamados módulos) que contienen funciones para ser usadas por otros programas. Pueden también contener datos (e.g. constantes numéricas) y otras cosas.\n",
    "* Los contenidos de una biblioteca deberían estar relacionados, pero no hay una forma establecida para imponer esto.\n",
    "* La biblioteca estándar de Python es una colección extensa de módulos que vienen con Python mismo.\n",
    "* Muchas bibliotecas adicionales están disponibles en PyPI (el índice de paquetes de Python).\n",
    "* Más adelante veremos cómo instalar e importar nuevas bibliotecas."
   ]
  },
  {
   "cell_type": "code",
   "execution_count": null,
   "id": "3f938386-0919-420f-b0d2-4bdbf7a7b850",
   "metadata": {},
   "outputs": [],
   "source": [
    "# Como saber que bibliotecas tengo instalado en mi entorno\n",
    "!pip list"
   ]
  },
  {
   "cell_type": "code",
   "execution_count": null,
   "id": "6d386a31-5e9b-4aa0-95e3-3b3ef4d259ef",
   "metadata": {},
   "outputs": [],
   "source": [
    "# Como ver las funciones que tenemos incorporadas en python\n",
    "__builtin__.__dict__"
   ]
  },
  {
   "cell_type": "markdown",
   "id": "b7147f19-ba81-4dd7-bf12-431fd2244de9",
   "metadata": {},
   "source": [
    "### Instalacion\n",
    "¿Qué es la instalación de pip? \n",
    "* pip es un administrador de paquetes (también un paquete en sí mismo), que le ayuda a instalar un paquete de Python desde PyPI (índice de paquetes de Python). Es uno de los paquetes predeterminados que se incluyen al instalar Python.\n",
    "\n",
    "* `pip install <nombre de la biblioteca>` \n",
    "* `pip` usó una variable para llamar a la biblioteca pip\n",
    "* `install` un comando de la biblioteca pip\n",
    "\n",
    "Notas: \"!\" debe agregarse al principio para instalar la biblioteca en jupyter y derivados.\n",
    "\n",
    "Documentación: https://pip.pypa.io/en/stable/cli/pip_install/"
   ]
  },
  {
   "cell_type": "code",
   "execution_count": null,
   "id": "3268f4a5-c4b4-4e18-9ce0-c21a8ffa0c22",
   "metadata": {},
   "outputs": [],
   "source": [
    "# instalar la biblioeca pandas !pip install pandas\n"
   ]
  },
  {
   "cell_type": "code",
   "execution_count": null,
   "id": "bf3eed5b-f30d-411e-8b41-06df1025f0bc",
   "metadata": {},
   "outputs": [],
   "source": [
    "# instalar la biblioteca statsmodels !pip install statsmodels\n"
   ]
  },
  {
   "cell_type": "code",
   "execution_count": null,
   "id": "f9638382-0fa9-415c-8ac9-3e6222e6dd56",
   "metadata": {},
   "outputs": [],
   "source": [
    "# desinstalar la biblioteca !pip uninstall -y statsmodels\n"
   ]
  },
  {
   "cell_type": "code",
   "execution_count": null,
   "id": "674b2d9d-a4ed-4861-8bd4-daf3cdddd1a4",
   "metadata": {},
   "outputs": [],
   "source": [
    "# instalar la biblioteca statsmodels !pip install statsmodels\n"
   ]
  },
  {
   "cell_type": "code",
   "execution_count": null,
   "id": "655b6a40-6d9f-4ad1-8ada-4cc6cc3a92ba",
   "metadata": {},
   "outputs": [],
   "source": [
    "!pip list"
   ]
  },
  {
   "cell_type": "markdown",
   "id": "e121cfac-a408-4538-84c0-189ce32e8cea",
   "metadata": {},
   "source": [
    "### Dependencias entre bibliotecas de Python\n",
    "* El propósito de una biblioteca de Python es simplificar el proceso, especialmente los repetitivos. La mayoría de las bibliotecas se construyen sobre bibliotecas básicas.\n",
    "\n",
    "* Algunas bibliotecas incluso se basan en una versión específica de la biblioteca principal.\n",
    "\n",
    "* Por lo tanto, a veces, cuando instalas una biblioteca, es posible que debas instalar primero sus dependencias y prestar un poco más de atención a la versión de la biblioteca."
   ]
  },
  {
   "cell_type": "markdown",
   "id": "7bfaef97-de4e-407f-a5a0-9a09289a9b0a",
   "metadata": {},
   "source": [
    "### Un programa debe importar un módulo de biblioteca antes de usarlo.\n",
    "Importar una biblioteca es un proceso muy sencillo\n"
   ]
  },
  {
   "cell_type": "markdown",
   "id": "62100108-f284-4ebb-9c8e-2255153dc4db",
   "metadata": {},
   "source": [
    "* Usa import para cargar un módulo de una biblioteca en la memoria del programa.\n",
    "* Después refiérete a las cosas del módulo como nombre_del_modulo.nombre_de_la_cosa.\n",
    "* Python usa . para referirse a “parte de”.\n",
    "* Usando math, uno de los módulos de la biblioteca estándar:"
   ]
  },
  {
   "cell_type": "code",
   "execution_count": null,
   "id": "a29552cf-ca97-431c-b7b2-62aceba87c50",
   "metadata": {},
   "outputs": [],
   "source": [
    "# importa la biblioteca math \n",
    "import math"
   ]
  },
  {
   "cell_type": "code",
   "execution_count": null,
   "id": "212366d6-41de-469e-acbe-6f3c3b83e0f2",
   "metadata": {},
   "outputs": [],
   "source": [
    "numero = 25\n",
    "raiz_cuadrada = math.sqrt(numero)\n",
    "print(\"La raíz cuadrada de\", numero, \"es\", raiz_cuadrada)"
   ]
  },
  {
   "cell_type": "code",
   "execution_count": null,
   "id": "50315702-6213-4cac-9e9c-95a2dd0eb812",
   "metadata": {},
   "outputs": [],
   "source": [
    "print('pi es', math.pi)\n",
    "print('cos(pi) es', math.cos(math.pi))"
   ]
  },
  {
   "cell_type": "markdown",
   "id": "35d879b8-2581-4920-83c7-174e5a6c727c",
   "metadata": {},
   "source": [
    "[Biblioteca Math](https://docs.python.org/es/3.10/library/math.html) "
   ]
  },
  {
   "cell_type": "markdown",
   "id": "3649325b-6963-44cd-b8f1-3982bdc1fa04",
   "metadata": {},
   "source": [
    "## Crea un alias para el módulo de una biblioteca al importarlo para acortar programas.\n",
    "* Usa import ... as ... para asignarle a una biblioteca un alias más corto al importarla.\n",
    "* Después refiérete a los elementos de la biblioteca usando el nombre corto."
   ]
  },
  {
   "cell_type": "code",
   "execution_count": null,
   "id": "526414ca-808f-4820-8039-67fce4839338",
   "metadata": {},
   "outputs": [],
   "source": [
    "import math as m\n",
    "\n",
    "print('cos(pi) es', m.cos(m.pi))"
   ]
  },
  {
   "cell_type": "code",
   "execution_count": null,
   "id": "23db3571-10ac-44d6-abaa-c44107b1b3b6",
   "metadata": {},
   "outputs": [],
   "source": [
    "# importa la biblioteca numpy y nombralo as 'np' - import numpy as np\n"
   ]
  },
  {
   "cell_type": "code",
   "execution_count": null,
   "id": "d6e1f75d-c454-4def-ad0e-5c5e2d177207",
   "metadata": {},
   "outputs": [],
   "source": [
    "# importa la biblioteca pandas y nombralo as 'pd'"
   ]
  },
  {
   "cell_type": "code",
   "execution_count": 1,
   "id": "54b2dfd6-55d9-4413-bc55-c9d32c936cd2",
   "metadata": {},
   "outputs": [],
   "source": [
    "# Se puede importar funciones especificas dentro la biblioteca\n",
    "from math import sqrt"
   ]
  },
  {
   "cell_type": "code",
   "execution_count": null,
   "id": "6b0e44aa-441e-4dbe-bbae-45e37e464095",
   "metadata": {},
   "outputs": [],
   "source": [
    "#Ejemplo\n",
    "numero = 25\n",
    "raiz_cuadrada = sqrt(numero)\n",
    "print(\"La raíz cuadrada de \", numero, \"es\", raiz_cuadrada)"
   ]
  },
  {
   "cell_type": "markdown",
   "id": "97d02e9d-9c2b-4ddc-b189-d8c1a4b8e058",
   "metadata": {},
   "source": [
    "* Esto se suele hacer con las librerías que se usan frecuentemente o que tienen nombres largos.\n",
    "* Por ejemplo, para la biblioteca de graficación matplotlib se suele usar el alias mpl.\n",
    "* Pero esto puede hacer que los programas sean más difíciles de entender, porque los lectores deberán aprender los alias de tu programa."
   ]
  },
  {
   "cell_type": "markdown",
   "id": "b5e12042-728f-4ae0-85d1-c131d3164da4",
   "metadata": {},
   "source": [
    "### Biblioteca de python - verificar versión\n",
    "* Las bibliotecas de Python a menudo lanzan nuevas versiones para mejorar la finalización de la biblioteca agregando nuevas funciones o revisando ciertas funciones. \n",
    "* Normalmente instalamos la última versión de una función. A veces, ciertas funciones se eliminan en la versión más reciente y pueden afectar nuestro codigo. \n",
    "* Además, algunas bibliotecas de código abierto requieren una versión específica de una biblioteca para garantizar que se pueda utilizar una función específica"
   ]
  },
  {
   "cell_type": "code",
   "execution_count": null,
   "id": "0711ce99-ba5e-49ba-b16f-795ac5bcb282",
   "metadata": {},
   "outputs": [],
   "source": [
    "# check numpy version - np.__version__\n"
   ]
  },
  {
   "cell_type": "markdown",
   "id": "8be0514a-f442-4367-a4a7-916c6a1d22d8",
   "metadata": {},
   "source": [
    "### Biblioteca python - función de ayuda\n",
    "* Nadie conocerá todas las funciones, todas las bibliotecas que existen y recordará lo que hacen.\n",
    "* La función help () es la forma más rápida de encontrar todas las funciones en una biblioteca de Python además de buscar en Internet."
   ]
  },
  {
   "cell_type": "code",
   "execution_count": null,
   "id": "389866cc-20a3-4fad-a16b-586c65a613f7",
   "metadata": {},
   "outputs": [],
   "source": [
    "help(math)"
   ]
  },
  {
   "cell_type": "markdown",
   "id": "6cc6d621-d510-4962-a012-c99f43463ef6",
   "metadata": {},
   "source": [
    "## Lecturas adicionales para esta sesión\n",
    "[How to Install a Package in Python using PIP](https://datatofish.com/install-package-python-using-pip/)   \n",
    "[Check the version of Python package / library](https://note.nkmk.me/en/python-package-version/)  \n",
    "[Python Modules](https://docs.python.org/3/tutorial/modules.html)"
   ]
  },
  {
   "cell_type": "markdown",
   "id": "dd404a46-ed66-428c-9d6e-0a9f7b28d493",
   "metadata": {},
   "source": [
    "## Puntos clave"
   ]
  },
  {
   "cell_type": "markdown",
   "id": "79ded712-66b1-413e-b6cc-a4af8299180a",
   "metadata": {},
   "source": [
    "### Funciones Integradas\n",
    "* Una función puede tomar cero o más argumentos.\n",
    "\n",
    "* Las funciones incorporadas de uso común incluyen max, min y round.\n",
    "\n",
    "* Las funciones solo pueden funcionar para ciertos (combinaciones de) argumentos.\n",
    "\n",
    "* Las funciones pueden tener valores predeterminados para algunos argumentos.\n",
    "\n",
    "* Usa la función incorporada help para obtener ayuda para una función.\n",
    "\n",
    "* Cada función regresa algo.\n",
    "\n",
    "* Soluciona errores de sintaxis leyendo el código fuente y errores de tiempo de ejecución rastreando la ejecución del programa"
   ]
  },
  {
   "cell_type": "markdown",
   "id": "463c8440-d569-4db5-8195-2f52a5ab419f",
   "metadata": {},
   "source": [
    "\n",
    "### Bibliotecas\n",
    "* Gran parte del poder que puede tener un lenguaje de programación está en sus bibliotecas.\n",
    "\n",
    "* Un programa debe importar los módulos de una biblioteca para poder usarlos.\n",
    "\n",
    "* Usa help para aprender sobre los contenidos de un módulo de la biblioteca.\n",
    "* Importa elementos específicos de una biblioteca para acortar programas.\n",
    "\n",
    "* Crea un alias para una biblioteca al importarla para acortar programas"
   ]
  },
  {
   "cell_type": "code",
   "execution_count": null,
   "id": "c423fbc1-2dcb-407d-9cb4-afa50a2445f2",
   "metadata": {},
   "outputs": [],
   "source": []
  }
 ],
 "metadata": {
  "kernelspec": {
   "display_name": "Python 3 (ipykernel)",
   "language": "python",
   "name": "python3"
  },
  "language_info": {
   "codemirror_mode": {
    "name": "ipython",
    "version": 3
   },
   "file_extension": ".py",
   "mimetype": "text/x-python",
   "name": "python",
   "nbconvert_exporter": "python",
   "pygments_lexer": "ipython3",
   "version": "3.8.10"
  }
 },
 "nbformat": 4,
 "nbformat_minor": 5
}
