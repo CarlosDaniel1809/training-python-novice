{
 "cells": [
  {
   "cell_type": "markdown",
   "id": "db75bddb-b51e-41f8-9f18-29d1bb078a6c",
   "metadata": {},
   "source": [
    "# Sesion 8: Funciones\n"
   ]
  },
  {
   "cell_type": "markdown",
   "id": "2a367446-8b69-42cb-b866-6a0cd038ebd5",
   "metadata": {},
   "source": [
    "## Funciones\n",
    "Una función es un bloque de código con un nombre asociado, que recibe cero o más argumentos como entrada, sigue una secuencia de sentencias, la cuales ejecuta una operación deseada y devuelve un valor y/o realiza una tarea, este bloque puede ser llamado cuando se necesite.\n"
   ]
  },
  {
   "cell_type": "markdown",
   "id": "ccd9a739-e396-4e4c-b201-1ba6b972161c",
   "metadata": {},
   "source": [
    "### Aprendimos sobre varias funciones integradas de Python :\n",
    "* print()\n",
    "* len()\n",
    "* str()\n",
    "* type()\n",
    "* Si bien Python ya proporciona muchas funciones integradas, también puedes definir tus propias funciones para usar en tus proyectos."
   ]
  },
  {
   "cell_type": "markdown",
   "id": "bdeec326-c940-4e77-a369-98331d62bff0",
   "metadata": {},
   "source": [
    "## Definir una función usando def con nombre, parámetros y bloque de código.\n",
    "En Python, una definición de función tiene las siguientes características:\n",
    "* Empieza o inicia la definición de una nueva función con **def**.\n",
    "* Seguido por el nombre de la función.\n",
    "* Debe respetar las normas de los nombres de las variables.\n",
    "* Entonces los parámetros / argumentos van entre paréntesis.\n",
    "* Paréntesis vacíos, si la función no toma ningún argumento.\n",
    "\n",
    "* Después dos puntos.\n",
    "* Después un bloque de código identado para ejecutar.\n",
    "* Una sentencia de retorno (opcional)"
   ]
  },
  {
   "cell_type": "code",
   "execution_count": 1,
   "id": "c2958296-0841-4c8d-8be3-98adffb83db8",
   "metadata": {},
   "outputs": [],
   "source": [
    "# Bloque de la funcion, lo que se esta definiendo la funcion pero no se esta ejecutando.\n",
    "def mostrar_saludos(): \n",
    "    print ('¡Hola!')  "
   ]
  },
  {
   "cell_type": "markdown",
   "id": "dc033d15-7bee-4836-909b-5306a0ff6182",
   "metadata": {},
   "source": [
    "## Definir una función, no significa que esta se ejecuta.\n",
    "* La definición de una función no la ejecuta.\n",
    "* Como asignar un valor en una variable.\n",
    "* Debes llamar a la función para ejecutar el código que contiene."
   ]
  },
  {
   "cell_type": "code",
   "execution_count": 2,
   "id": "aa06bfb7-161f-4a88-9174-21e314c872ee",
   "metadata": {},
   "outputs": [
    {
     "name": "stdout",
     "output_type": "stream",
     "text": [
      "¡Hola!\n"
     ]
    }
   ],
   "source": [
    "# se ejecuta la funcion\n",
    "mostrar_saludos()"
   ]
  },
  {
   "cell_type": "code",
   "execution_count": 3,
   "id": "e9380c2f-8306-449b-bec8-129162a35e29",
   "metadata": {},
   "outputs": [
    {
     "name": "stdout",
     "output_type": "stream",
     "text": [
      "Hello!\n"
     ]
    }
   ],
   "source": [
    "# función sin parámetros o retorno de valores\n",
    "def diHola():\n",
    "    print(\"Hello!\")\n",
    "\n",
    "diHola()  # llamada a la función, 'Hello!' se muestra en la consola"
   ]
  },
  {
   "cell_type": "code",
   "execution_count": 4,
   "id": "1547a2ab-cf6b-4f22-8c7a-5c5b4a443dc4",
   "metadata": {},
   "outputs": [
    {
     "name": "stdout",
     "output_type": "stream",
     "text": [
      "Hola!\n"
     ]
    }
   ],
   "source": [
    "# Ejercicio 1.\n",
    "def mi_funcion():\n",
    "    print(\"Hola!\")\n",
    "mi_funcion()"
   ]
  },
  {
   "cell_type": "markdown",
   "id": "cf8ba8ab-e15c-4f5e-8147-67ca39eaef55",
   "metadata": {},
   "source": [
    "## Los argumentos en la llamada corresponden a los parámetros de la definición.\n",
    "* Las funciones son más efectivas cuando pueden operar sobre datos diferentes.\n",
    "* Especificar parámetros al definir una función.\n",
    "* Estos se convierten en variables cuando se ejecuta la función.\n",
    "* Se asignan los argumentos en la llamada (es decir, los valores se pasan ​​a la función).\n",
    "* Si no invoca los argumentos cuando los usa en la llamada, los argumentos se compararán con los parámetros en el orden definido en la función."
   ]
  },
  {
   "cell_type": "code",
   "execution_count": 5,
   "id": "84d003d0-1314-458a-a34b-c581ca0bdfce",
   "metadata": {},
   "outputs": [
    {
     "name": "stdout",
     "output_type": "stream",
     "text": [
      "Hello Carlos!\n"
     ]
    }
   ],
   "source": [
    "# función con un parámetro (name)\n",
    "def holaConNombre(name):\n",
    "    print(\"Hello \" + name + \"!\")\n",
    "    \n",
    "# Llamar a la función para que se muestre en la consola 'Hello Carlos!' \n",
    "# Carlos es el argumento de la llamada de la funcion y ese valor lo va tomar el parametro name\n",
    "holaConNombre(\"Carlos\")  \n"
   ]
  },
  {
   "cell_type": "code",
   "execution_count": 7,
   "id": "5fb13a42-78f7-4438-831d-47ca7096fe78",
   "metadata": {},
   "outputs": [
    {
     "name": "stdout",
     "output_type": "stream",
     "text": [
      "1871/3/19\n"
     ]
    }
   ],
   "source": [
    "# Función con tres parametros\n",
    "def mostrar_fecha(year, mes, dia): \n",
    "    unido = str(year) + '/' + str(mes) + '/' + str(dia)  \n",
    "    print(unido) \n",
    "\n",
    "mostrar_fecha(1871, 3, 19) "
   ]
  },
  {
   "cell_type": "code",
   "execution_count": 8,
   "id": "78683002-6944-4adc-a5e8-3ad016a6e68a",
   "metadata": {},
   "outputs": [
    {
     "name": "stdout",
     "output_type": "stream",
     "text": [
      "1871/3/19\n"
     ]
    }
   ],
   "source": [
    "# O bien, podemos nombrar los argumentos cuando llamamos a la función, \n",
    "# lo que nos permite especificarlos en cualquier orden:\n",
    "mostrar_fecha(mes=3, dia=19, year=1871)"
   ]
  },
  {
   "cell_type": "code",
   "execution_count": 9,
   "id": "6e34a844-6785-4795-b830-43cad05a752f",
   "metadata": {},
   "outputs": [
    {
     "name": "stdout",
     "output_type": "stream",
     "text": [
      "Samuel.L Jackson\n"
     ]
    }
   ],
   "source": [
    "# Ejercicio 2. \n",
    "def mi_funcion(nombre, apellido):\n",
    "    print(nombre, apellido)\n",
    "mi_funcion(\"Samuel.L\", \"Jackson\")"
   ]
  },
  {
   "cell_type": "markdown",
   "id": "e05573b0-53a9-4894-b92c-5bfae9731a45",
   "metadata": {},
   "source": [
    "## Las funciones pueden devolver un resultado a quien la llama usando return.\n",
    "* Usa return para devolver el valor.\n",
    "* Puede ocurrir en cualquier parte de la función.\n",
    "* Pero las funciones son más fácil de entender si tienen un return:\n",
    "* Al principio para manejar casos especiales.\n",
    "* Al final, con un resultado final."
   ]
  },
  {
   "cell_type": "code",
   "execution_count": 10,
   "id": "ecae5c27-e22c-4b01-93dc-2c842d4a64be",
   "metadata": {},
   "outputs": [
    {
     "data": {
      "text/plain": [
       "15"
      ]
     },
     "execution_count": 10,
     "metadata": {},
     "output_type": "execute_result"
    }
   ],
   "source": [
    "# función con múltiples parámetros con una sentencia de retorno\n",
    "def multiplica(val1, val2):\n",
    "    return val1 * val2\n",
    "\n",
    "multiplica(3, 5)  # muestra 15 en la consola"
   ]
  },
  {
   "cell_type": "code",
   "execution_count": 11,
   "id": "a5b149cd-e985-4226-b9ea-c30ebe876c2e",
   "metadata": {},
   "outputs": [
    {
     "data": {
      "text/plain": [
       "3"
      ]
     },
     "execution_count": 11,
     "metadata": {},
     "output_type": "execute_result"
    }
   ],
   "source": [
    "# Ejercicio 3. función básica de suma\n",
    "def suma(a, b):\n",
    "    return a + b\n",
    "suma(1, 2)"
   ]
  },
  {
   "cell_type": "code",
   "execution_count": 12,
   "id": "506b5d15-4e6b-42dd-b839-6cf96c2182cc",
   "metadata": {},
   "outputs": [],
   "source": [
    "# La funcion sirve para reutilizar algoritmos\n",
    "def average(valores):\n",
    "    if len(valores) == 0:\n",
    "        return None\n",
    "    return sum(valores) / len(valores)"
   ]
  },
  {
   "cell_type": "code",
   "execution_count": 13,
   "id": "07e5b1c6-81b5-4d02-be8f-70052c007bc5",
   "metadata": {},
   "outputs": [
    {
     "name": "stdout",
     "output_type": "stream",
     "text": [
      "promedio de valores: 2.6666666666666665\n"
     ]
    }
   ],
   "source": [
    "a = average([1, 3, 4])\n",
    "print('promedio de valores:', a)"
   ]
  },
  {
   "cell_type": "code",
   "execution_count": 14,
   "id": "fec7638e-9373-4104-af4d-6ba519f2b81c",
   "metadata": {},
   "outputs": [
    {
     "name": "stdout",
     "output_type": "stream",
     "text": [
      "promedio de la lista vacía: None\n"
     ]
    }
   ],
   "source": [
    "print('promedio de la lista vacía:', average([]))"
   ]
  },
  {
   "cell_type": "markdown",
   "id": "e7ada74b-baab-4d15-b739-d9628a2d9a8d",
   "metadata": {},
   "source": [
    "Recuerda: toda función devuelve algo.\n",
    "Una función que no devuelve un valor explícitamente devuelve automáticamente None.\n"
   ]
  },
  {
   "cell_type": "markdown",
   "id": "da48acba-e442-4df9-9ed9-7df6639a3252",
   "metadata": {},
   "source": [
    "## Identificación de errores de sintaxis\n"
   ]
  },
  {
   "cell_type": "code",
   "execution_count": 19,
   "id": "91290dd7-5d98-4ab8-b480-fb67639bbc99",
   "metadata": {},
   "outputs": [],
   "source": [
    "# Lee el código a continuación e intente identificar cuáles son los errores sin ejecutarlo.\n",
    "def another_function():\n",
    "    print(\"Los errores de sintaxis son molestos.\")\n",
    "    print(\"¡Pero al menos Python nos cuenta sobre ellos!\")\n",
    "    print(\"Generalmente no son demasiado difíciles de arreglar.\")\n"
   ]
  },
  {
   "cell_type": "code",
   "execution_count": 21,
   "id": "16a5d92d-7363-4dd7-a25d-5e44feae78c5",
   "metadata": {},
   "outputs": [
    {
     "name": "stdout",
     "output_type": "stream",
     "text": [
      "presion es 22.5\n"
     ]
    }
   ],
   "source": [
    "#\n",
    "def report(presion):\n",
    "    print('presion es', presion)\n",
    "\n",
    "#print('llamado', report, 22.5) # no se esta llamando a la funcion report, solo se esta imprimiendo\n",
    "report(22.5)"
   ]
  },
  {
   "cell_type": "markdown",
   "id": "369a4ef8-1447-4960-80ff-edb61bee6ac5",
   "metadata": {},
   "source": [
    "## Puntos Clave\n",
    "* Divide los programas en funciones para hacerlos mas entendibles o mas fácil de interpretar.\n",
    "\n",
    "* Define una función usando def con nombre, parámetros, y código en bloque.\n",
    "\n",
    "* Defining a function does not run it.\n",
    "\n",
    "* Los argumentos en una llamada corresponden a los parametros en la definición.\n",
    "\n",
    "* Las funciones pueden devolver un resultado, a quienes las invocan (llaman) usando return."
   ]
  },
  {
   "cell_type": "code",
   "execution_count": null,
   "id": "6637c564-0e66-43ea-9048-2bb177fc1637",
   "metadata": {},
   "outputs": [],
   "source": []
  }
 ],
 "metadata": {
  "kernelspec": {
   "display_name": "Python 3",
   "language": "python",
   "name": "python3"
  },
  "language_info": {
   "codemirror_mode": {
    "name": "ipython",
    "version": 3
   },
   "file_extension": ".py",
   "mimetype": "text/x-python",
   "name": "python",
   "nbconvert_exporter": "python",
   "pygments_lexer": "ipython3",
   "version": "3.8.8"
  }
 },
 "nbformat": 4,
 "nbformat_minor": 5
}
