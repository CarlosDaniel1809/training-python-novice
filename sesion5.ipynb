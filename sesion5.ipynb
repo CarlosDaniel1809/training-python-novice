{
 "cells": [
  {
   "cell_type": "markdown",
   "id": "df75fa09-55fc-405d-8edb-0afdbf58fe36",
   "metadata": {},
   "source": [
    " # Sesion 5: Vizualizando\n"
   ]
  },
  {
   "cell_type": "markdown",
   "id": "41eeb201-a9bc-422f-8cfc-e60f064a9d55",
   "metadata": {},
   "source": [
    "#######################################"
   ]
  },
  {
   "cell_type": "markdown",
   "id": "308bced6-b118-4ff0-9bd8-a20bf78b3bc1",
   "metadata": {},
   "source": [
    "## Matplotlib\n",
    "Es la biblioteca de graficado científico más utilizada en Python.\n",
    "* Comúnmente usa una sub-biblioteca llamada matplotlib.pyplot.\n",
    "* Jupyter Notebook insertará los gráficos en el cuaderno si lo pedimos usando un comando \"magico\"\n",
    "* Matplotlib es una biblioteca de gráficos excepcional, diseñada para la informática científica, con gráficos 2D y 3D de alta calidad.\n",
    "* Salida en todos los formatos habituales (PDF, PNG, etc.)\n"
   ]
  },
  {
   "cell_type": "code",
   "execution_count": null,
   "id": "8a3396d2-8a10-4caf-b6ae-0bdf52175d0d",
   "metadata": {},
   "outputs": [],
   "source": [
    "# 1. Instalar la biblioteca Matplotlib\n",
    "!pip install matplotlib"
   ]
  },
  {
   "cell_type": "code",
   "execution_count": null,
   "id": "ea269b8a-430f-4896-afed-1218407b49da",
   "metadata": {},
   "outputs": [],
   "source": [
    "# 2. Importar la biblioteca\n",
    "import matplotlib.pyplot as plt\n",
    "# from matplotlib import pyplot as plt\n",
    "#comando en Jupyer que fuerza la visualizacion de los graficos dentro del notebook\n",
    "%matplotlib inline"
   ]
  },
  {
   "cell_type": "markdown",
   "id": "fbac8d23-7fe4-4ee8-b627-5a925de7dca3",
   "metadata": {},
   "source": [
    "## Line Plot"
   ]
  },
  {
   "cell_type": "code",
   "execution_count": null,
   "id": "32de593d-474b-45a3-8a06-725f5bbfb730",
   "metadata": {},
   "outputs": [],
   "source": [
    "#El comando es plt.plot(x, y) pueden ser especificados como un argumento óptico\n",
    "time = [0,1,2,3]\n",
    "position= [0,100,200,300]\n",
    "\n",
    "plt.plot(time, position)"
   ]
  },
  {
   "cell_type": "markdown",
   "id": "e9da52b7-6dd6-41ec-8607-e6e8de3b19c4",
   "metadata": {},
   "source": [
    "## Personalizando el gráfico"
   ]
  },
  {
   "cell_type": "code",
   "execution_count": null,
   "id": "6d5bb9ed-9b04-495e-81de-efc4e38a92b8",
   "metadata": {},
   "outputs": [],
   "source": [
    "time = [0, 1, 2, 3]\n",
    "position = [0, 100, 200, 300]\n",
    "\n",
    "plt.plot(time, position, marker=\"o\", linestyle=\"--\", color=\"r\")\n",
    "\n",
    "# crea nombres al eje x y eje y\n",
    "plt.xlabel(\"time (hr)\")\n",
    "plt.ylabel(\"position (km)\")\n",
    "\n",
    "# crea el titulo\n",
    "plt.title(\"time vs position\")\n",
    "\n",
    "plt.yticks([0, 100, 200, 300])\n",
    "\n",
    "#muestra solo plot \n",
    "plt.show()\n",
    "\n",
    "# Guarda el gráfico en un archivo\n",
    "#plt.savefig('ejemplo1.png')"
   ]
  },
  {
   "cell_type": "code",
   "execution_count": null,
   "id": "9da85569-13ea-4e29-a6c0-0b83de471c06",
   "metadata": {},
   "outputs": [],
   "source": [
    "# Ejercicio\n"
   ]
  },
  {
   "cell_type": "markdown",
   "id": "d9e2dae4-61d4-481b-97d6-5d8c1585d7e7",
   "metadata": {},
   "source": [
    "## Graficar datos directamente desde un dataframe de Pandas"
   ]
  },
  {
   "cell_type": "markdown",
   "id": "8efb3e79-c0b9-4c45-89c6-a5d90a783837",
   "metadata": {},
   "source": [
    "* Esto usa implicitamente matplotlib.pyplot.\n",
    "* Antes de graficar, convertimos las cabeceras de las columnas de una cadena a un tipo de dato entero, siendo que ellos representan valores numéricos."
   ]
  },
  {
   "cell_type": "code",
   "execution_count": null,
   "id": "988d0c5c-b800-4c43-a55d-2f783a0add62",
   "metadata": {},
   "outputs": [],
   "source": [
    "import pandas as pd\n",
    "\n",
    "data = pd.read_csv('data/gapminder_gdp_oceania.csv', index_col='country')\n",
    "print(data)"
   ]
  },
  {
   "cell_type": "code",
   "execution_count": null,
   "id": "c9b740b4-36a7-4635-ada4-f72e0e7d1acc",
   "metadata": {},
   "outputs": [],
   "source": [
    "# Extraer el año de los 4 últimos caracteres de cada nombre de columna\n",
    "# Los nombres de columna actuales están estructurados como 'gdpPercap_(year)', \n",
    "# Entonces queremos mantener la parte del año (year) solo para claridad cuando grafiquemos PIB vs. años\n",
    "# Para hacer esto, usamos strip(), el cual remueve de la cadena los caracteres declarados en el argumento \n",
    "# Este método funciona en cadenas, entonces llamamos str antes de strip()\n",
    "\n",
    "years = data.columns.str.strip('gdpPercap_')"
   ]
  },
  {
   "cell_type": "code",
   "execution_count": null,
   "id": "9ccd94bf-525a-4cb5-a71e-63f5f2efb1b3",
   "metadata": {},
   "outputs": [],
   "source": [
    "# Convierte los valores del año a enteros, \n",
    "# Guarda los resultados nuevamente en el Dataframe \n",
    "\n",
    "# sobreescribir nombres de columnas por una lista \n",
    "# con sus años correspondientes en numero entero \n",
    "data.columns = years.astype(int)\n",
    "data.loc['Australia'].plot()"
   ]
  },
  {
   "cell_type": "markdown",
   "id": "d3128141-9b55-4c31-84f2-610a95fe3941",
   "metadata": {},
   "source": [
    "## Selecciona y transforma los datos y lo graficas.\n",
    "* Por defecto, DataFrame.plot grafica con las filas como el eje X .\n",
    "* Podemos transponer los datos para graficar multiples series."
   ]
  },
  {
   "cell_type": "code",
   "execution_count": null,
   "id": "25fe591c-9f73-4a1c-8f04-41fa6174da85",
   "metadata": {},
   "outputs": [],
   "source": [
    "data.T"
   ]
  },
  {
   "cell_type": "code",
   "execution_count": null,
   "id": "29bd7467-b402-48e4-9dfa-63f4bb789154",
   "metadata": {},
   "outputs": [],
   "source": [
    "data.T.plot()\n",
    "plt.ylabel('PIB per capita')"
   ]
  },
  {
   "cell_type": "markdown",
   "id": "cd5d9e6e-3703-44ad-a226-c48f5a3c4610",
   "metadata": {},
   "source": [
    "## Bar Plot"
   ]
  },
  {
   "cell_type": "code",
   "execution_count": null,
   "id": "3c8cfb81-802b-4f38-825e-60b5a7994e85",
   "metadata": {},
   "outputs": [],
   "source": [
    "x = ['Argentina', 'Bolivia', 'Colombia', 'Uruguay']\n",
    "y = [44, 11, 50, 3]\n",
    "plt.bar(x,y)\n",
    "plt.show()"
   ]
  },
  {
   "cell_type": "markdown",
   "id": "a89c5c12-07d8-4319-af27-94bb31cdc123",
   "metadata": {},
   "source": [
    "* Por ejemplo, se puede hacer un diagrama de barras usando un estilo mas elegante"
   ]
  },
  {
   "cell_type": "markdown",
   "id": "848b3e4d-7561-4ee3-a992-2ffe9141b3e8",
   "metadata": {},
   "source": [
    "## Varios Estilos de gráficos están disponibles\n",
    "Las versiones más recientes de matplotlib permiten la aplicación de \"estilos\" que mejoran la apariencia de las gráficas creadas o que las modifican de forma tal que las hacen más amigables en ciertos entornos."
   ]
  },
  {
   "cell_type": "code",
   "execution_count": null,
   "id": "8c55731f-fa29-405a-8a28-c04e5f7ff05a",
   "metadata": {},
   "outputs": [],
   "source": [
    "# Podemos comprobar los estilos disponibles con la instrucción \n",
    "plt.style.available"
   ]
  },
  {
   "cell_type": "code",
   "execution_count": null,
   "id": "da5e2875-5444-4257-bf7a-6eb4c140e00d",
   "metadata": {},
   "outputs": [],
   "source": [
    "# Para usar un estilo, por ejemplo, \"ggplot\", basta ejecutar la siguiente instrucción:\n",
    "\n",
    "plt.style.use('ggplot')\n",
    "data.T.plot(kind='bar')\n",
    "plt.ylabel('GDP per capita')\n"
   ]
  },
  {
   "cell_type": "code",
   "execution_count": null,
   "id": "b95ed509-b371-4816-a62a-d503b8a6b6a4",
   "metadata": {},
   "outputs": [],
   "source": [
    "plt.style.use('seaborn')\n",
    "data.T.plot(kind='bar')\n",
    "plt.ylabel('GDP per capita')"
   ]
  },
  {
   "cell_type": "markdown",
   "id": "2f8bbd33-8022-4e76-bf44-c03ccf525683",
   "metadata": {},
   "source": [
    "# Los datos pueden ser también graficados llamando a la función plot de matplotlib directamente."
   ]
  },
  {
   "cell_type": "markdown",
   "id": "5d169f15-a0d3-4e56-a567-21ee27e52fd8",
   "metadata": {},
   "source": [
    "El comando es plt.plot(x, y)\n",
    "El color / formato de los marcadores también pueden ser especificados como un argumento óptico: ejemplo. ‘b-‘ es una linea azul, ‘g--’ es una linea verde discontinua"
   ]
  },
  {
   "cell_type": "markdown",
   "id": "f5a69897-cb33-4d66-84df-f1c8f9f3d89b",
   "metadata": {},
   "source": [
    "### 1. Obtener datos de Australia desde el DataFrame"
   ]
  },
  {
   "cell_type": "code",
   "execution_count": null,
   "id": "de70a883-56ec-4bf3-b774-79353c129f55",
   "metadata": {},
   "outputs": [],
   "source": [
    "years = data.columns\n",
    "gdp_australia = data.loc['Australia']\n",
    "\n",
    "plt.plot(years, gdp_australia, 'g--')\n"
   ]
  },
  {
   "cell_type": "code",
   "execution_count": null,
   "id": "c288af7b-e625-4bba-89d9-2c7e0ae8bcf9",
   "metadata": {},
   "outputs": [],
   "source": [
    "# Ejercico 2. Obtener datos de New Zealand desd el DatFrame\n"
   ]
  },
  {
   "cell_type": "markdown",
   "id": "d9deebff-409a-4315-95fb-ee78412a9b98",
   "metadata": {},
   "source": [
    "### 2. Se puede trazar varios conjuntos de datos juntos."
   ]
  },
  {
   "cell_type": "code",
   "execution_count": null,
   "id": "9372e936-b8a8-4288-b3e8-6faf3dc44afa",
   "metadata": {},
   "outputs": [],
   "source": [
    "# Selecciona el valor de los datos de dos países.\n",
    "gdp_australia = data.loc['Australia']\n",
    "gdp_nz = data.loc['New Zealand']\n",
    "\n",
    "# Grafica con marcadores de diferentes colores.\n",
    "plt.plot(years, gdp_australia, 'b-', label='Australia')\n",
    "plt.plot(years, gdp_nz, 'g--', label='New Zealand')\n",
    "\n",
    "# Crea leyenda \"arriba a la izquierda\"\n",
    "plt.legend()\n",
    "\n",
    "#Crea nombres al eje x, y\n",
    "plt.xlabel('Year')\n",
    "plt.ylabel('GDP per capita ($)')"
   ]
  },
  {
   "cell_type": "markdown",
   "id": "53644f1e-a20a-46b9-8960-582d8c89467a",
   "metadata": {},
   "source": [
    "## Añadiendo una Leyenda\n",
    "A menudo, al trazar múltiples conjuntos de datos en la misma figura, es deseable tener una leyenda describiendo los datos.\n",
    "\n",
    "Esto se puede hacer en matplotlib en dos etapas:\n",
    "\n",
    "1. Provee una etiqueta por cada set de datos en la figura:\n",
    " - plt.plot(years, gdp_australia, label='Australia')\n",
    " - plt.plot(years, gdp_nz, label='New Zealand')\n",
    "\n",
    "2. Instruye a matplotlib para que crea una leyenda.\n",
    "plt.legend()\n",
    "\n",
    "* Por defecto matplotlib intentara colocar la leyenda en una posición adecuada. Si preferirías especificar una posición se podría hacer con el argumento loc=, por ejemplo, para colocar la leyenda en la esquina superior izquierda de la gráfica, se puede especificar loc='upper left'"
   ]
  },
  {
   "cell_type": "code",
   "execution_count": null,
   "id": "c1c4e6e1-2a91-439f-b638-d11451abe9fe",
   "metadata": {},
   "outputs": [],
   "source": [
    "plt.plot(years, gdp_australia, 'b-', label='Australia') \n",
    "plt.plot(years, gdp_nz, 'g-', label='New Zealand')\n",
    "plt.legend(loc='upper left')"
   ]
  },
  {
   "cell_type": "markdown",
   "id": "343638e0-f5fd-432a-9521-d62d0f0a24c6",
   "metadata": {},
   "source": [
    "## Diagrama de Dispersión (Scatterplot)\n",
    "Se usa comúnmente para mostrar cómo dos variables se relacionan entre sí.\n",
    "Una relación entre los puntos se muestra, algunas veces, como positiva, negativa, sólida o débil.\n"
   ]
  },
  {
   "cell_type": "code",
   "execution_count": null,
   "id": "e403f8e8-e091-4e54-8b01-d26cf2a484f7",
   "metadata": {},
   "outputs": [],
   "source": [
    "#Grafica un diagrama de dispersión que correlacione el PIB de Australia y Nueva Zelanda\n",
    "# Utiliza plt.scatter \n",
    "plt.scatter(gdp_australia, gdp_nz)"
   ]
  },
  {
   "cell_type": "code",
   "execution_count": null,
   "id": "5cd9f316-30b5-4441-b68c-e4009329caab",
   "metadata": {},
   "outputs": [],
   "source": [
    "# DataFrame.plot.scatter\n",
    "data.T.plot.scatter(x = 'Australia', y = 'New Zealand', color='r')"
   ]
  },
  {
   "cell_type": "markdown",
   "id": "e08866fa-68b6-49e5-a6f5-bb7edb8c5590",
   "metadata": {},
   "source": [
    "## Minimo y Maximo\n",
    "* Grafica el PIB mínimo per cápita a lo largo del tiempo para todos los países en Europa. \n",
    "* Modificalo de nuevo para graficar el PIB máximo per cápita a lo largo del tiempo para Europa."
   ]
  },
  {
   "cell_type": "code",
   "execution_count": null,
   "id": "310636d1-9159-470f-a500-6192cd4f8317",
   "metadata": {},
   "outputs": [],
   "source": [
    "data_europe = pd.read_csv('data/gapminder_gdp_europe.csv', index_col='country')\n",
    "print(data_europe)"
   ]
  },
  {
   "cell_type": "code",
   "execution_count": null,
   "id": "340faf66-29d8-4ffe-bd65-8b38570ece01",
   "metadata": {},
   "outputs": [],
   "source": [
    "# GPP min y max\n",
    "data_europe.min().plot(label='min')\n",
    "data_europe.max().plot(label='max')\n",
    "plt.legend(loc='best')\n",
    "plt.xticks(rotation=90)\n"
   ]
  },
  {
   "cell_type": "markdown",
   "id": "0364b8a9-bc76-4743-a19a-59b6ee2aa493",
   "metadata": {},
   "source": [
    "## Mas correlaciones\n",
    "Este breve programa crea un gráfico que muestra la correlación entre el PIB y la esperanza de vida para 2007, normalizando el tamaño del marcador por población:"
   ]
  },
  {
   "cell_type": "code",
   "execution_count": null,
   "id": "15d0d892-621f-4be6-8834-ca00fa818a90",
   "metadata": {},
   "outputs": [],
   "source": [
    "data_all = pd.read_csv('data/gapminder_all.csv', index_col='country')\n",
    "print(data_all)"
   ]
  },
  {
   "cell_type": "code",
   "execution_count": null,
   "id": "e71bff45-b2f6-43b7-8ae8-63fcc2907552",
   "metadata": {},
   "outputs": [],
   "source": [
    "#Usando ayuda en línea y otros recursos, explica lo que hace cada argumento para plot.\n",
    "data_all.plot(kind='scatter', x='gdpPercap_2007', y='lifeExp_2007', s=data_all['pop_2007']/1e6)\n",
    "# NOTA: El parametro \"s\", usa el valor data_all['pop_2007']/1e6 para ue las esferas \n",
    "# tengan una visivilidad apropiada\n",
    "\n",
    "# Guardar el grafico\n",
    "#plt.savefig('my_figure1.png')"
   ]
  },
  {
   "cell_type": "markdown",
   "id": "4bb51486-0302-4bf7-a9e3-42bc28bd240b",
   "metadata": {},
   "source": [
    "Un buen lugar para buscar es la documentación para la función plot - help(data_all.plot).\n",
    "\n",
    "kind - Como ya se ha visto, esto determina el tipo de gráfico que se dibujará.\n",
    "\n",
    "“x” e “y” - Un nombre de columna o índice que determina qué datos serán colocado en los ejes x e y del gráfico\n",
    "\n",
    "s - Determina el tamaño de los puntos graficados. "
   ]
  },
  {
   "cell_type": "markdown",
   "id": "3d0d90e0-ea9d-470e-a73e-dc309e2dc257",
   "metadata": {},
   "source": [
    "## Guardando tu gráfico en un archivo\n",
    "Para guardar el grafico en un archivo. Hay una función en el módulo matplotlib.pyplot que cumple con esto: savefig"
   ]
  },
  {
   "cell_type": "code",
   "execution_count": null,
   "id": "7d0201c1-db13-407e-bcb9-29164d4b935b",
   "metadata": {},
   "outputs": [],
   "source": [
    "#Guarda el grafico en un archivo usando savefig. \n",
    "plt.savefig('my_figure.png')"
   ]
  },
  {
   "cell_type": "markdown",
   "id": "afc3a3b3-6cc9-4c53-b1eb-e548e9fc13e5",
   "metadata": {},
   "source": [
    "Guardará la figura actual en el archivo my_figure.png. El formato de archivo se deducirá automáticamente de la extensión del nombre del archivo (otros formatos son pdf, ps, eps y svg)."
   ]
  },
  {
   "cell_type": "markdown",
   "id": "64d46a96-145f-450c-b02b-415567b01ded",
   "metadata": {},
   "source": [
    "## Gráficas accesibles\n",
    "* Usa el parámetro fontsize en xlabel, ylabel, title, y legend, y tick_params con labelsize para aumentar el tamaño del texto de los números en sus ejes.\n",
    "* Del mismo modo, usa s para aumentar el tamaño de los marcadores de tu diagrama de dispersión y linewidth para aumentar el tamaño de las líneas del trazado.\n",
    "* Usar solo colores para distinguir entre diferentes elementos del gráfico hará que los trazados sean ilegibles para cualquier persona daltónica o que tenga una impresora en blanco y negro. \n",
    "* Para líneas, el parámetro linestyle permite utilizar diferentes tipos de líneas. \n",
    "* Para diagramas de dispersión, marker permite cambiar la forma de los puntos. "
   ]
  },
  {
   "cell_type": "markdown",
   "id": "a5a66f2b-69d7-472b-8d48-64fce9eaf6ec",
   "metadata": {},
   "source": [
    "# Puntos clave\n",
    "* matplotlib es la biblioteca de generación de gráficos científicos más utilizada en Python.\n",
    "\n",
    "* Grafica datos directamente desde un dataframe de Pandas.\n",
    "\n",
    "* Selecciona y transforma datos, luego grafícalos.\n",
    "\n",
    "* Muchos estilos de gráfico están disponibles: ve la [Galería de Gráficos](https://www.python-graph-gallery.com/matplotlib/) de Python para más opciones.\n",
    "\n",
    "* Puedes graficar muchos conjuntos de datos juntos."
   ]
  },
  {
   "cell_type": "markdown",
   "id": "6ad264fe-cb8e-42eb-94f1-d4c704fb3305",
   "metadata": {},
   "source": [
    "### Referencias\n",
    "- [Leyendas](https://matplotlib.org/stable/api/_as_gen/matplotlib.pyplot.legend.html#matplotlib.pyplot.legend)\n",
    "- [Markers, linestyle, colors](https://matplotlib.org/stable/api/_as_gen/matplotlib.pyplot.plot.html)"
   ]
  }
 ],
 "metadata": {
  "kernelspec": {
   "display_name": "Python 3",
   "language": "python",
   "name": "python3"
  },
  "language_info": {
   "codemirror_mode": {
    "name": "ipython",
    "version": 3
   },
   "file_extension": ".py",
   "mimetype": "text/x-python",
   "name": "python",
   "nbconvert_exporter": "python",
   "pygments_lexer": "ipython3",
   "version": "3.8.8"
  }
 },
 "nbformat": 4,
 "nbformat_minor": 5
}
