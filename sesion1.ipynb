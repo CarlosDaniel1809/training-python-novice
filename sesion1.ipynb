{
 "cells": [
  {
   "cell_type": "markdown",
   "id": "4bd4abbf-544f-420a-868f-c237b612bcff",
   "metadata": {},
   "source": [
    "# **Bienvenidos al taller introducción a Python!!**"
   ]
  },
  {
   "cell_type": "markdown",
   "id": "bc9f5684-efde-4041-b333-d08f2216ada7",
   "metadata": {},
   "source": [
    "## **Sesion 1: Ejecutar y Salir**"
   ]
  },
  {
   "cell_type": "markdown",
   "id": "f7618d5e-a177-44fe-9e61-061f0aa5588a",
   "metadata": {},
   "source": [
    "Jupyter mezcla código y texto en diferentes tipos de bloques,llamados celdas.Hay dos tipos principales de celdas/\n",
    "\n",
    "**Celdas de Texto**\n",
    "Las entradas están escritas en markdown y pueden contener texto formateado, imágenes, ecuaciones y más. Las salidas se representan en lugar de la entrada cuando se ejecuta la celda."
   ]
  },
  {
   "cell_type": "markdown",
   "id": "42dcadfb-a0db-4ac2-ae33-97bd4ca907c7",
   "metadata": {},
   "source": [
    "**Celdas de código**\n",
    "Las entradas contienen código Python.\n",
    "Lassalidas se colocan debajo de la celda de entrada y contienen los resultados generados cuando se ejecuta el código de entrada.\n"
   ]
  },
  {
   "cell_type": "markdown",
   "id": "3307e4a5-bd34-49bd-b807-446b8dbc3324",
   "metadata": {},
   "source": [
    "## CELDAS DE TEXTO"
   ]
  },
  {
   "cell_type": "markdown",
   "id": "8e8f7908-38bd-4ad6-bea2-d8b202495313",
   "metadata": {},
   "source": [
    "# Markdown"
   ]
  },
  {
   "cell_type": "markdown",
   "id": "ec7a6344-7d0e-46b7-802d-00bfd59bf1dc",
   "metadata": {},
   "source": [
    "Un formato de texto plano simple para escribir listas, seleccionar enlaces, y otras cosas que pueden ir en una página web."
   ]
  },
  {
   "cell_type": "markdown",
   "id": "16b395ff-b0a7-4cf1-affd-911c8e9a46a7",
   "metadata": {},
   "source": [
    "Permite escribir reportes científicos rápidamente al igual que ecuaciones matemáticas de cualquier complejidad, imágenes, tablas"
   ]
  },
  {
   "cell_type": "markdown",
   "id": "48644c13-8e43-48e8-85df-282bd90e3c3f",
   "metadata": {},
   "source": [
    "## Formatación"
   ]
  },
  {
   "cell_type": "markdown",
   "id": "45fe016f-2fda-4fd1-b695-636991852131",
   "metadata": {},
   "source": [
    "### **Negrita**, *Italica*; __Markdown__, _Markdown_"
   ]
  },
  {
   "cell_type": "markdown",
   "id": "89f6c98e-be6b-4a69-82db-4b79dada9972",
   "metadata": {},
   "source": [
    "práctica: escribe tu nombre con negrita\n"
   ]
  },
  {
   "cell_type": "markdown",
   "id": "558e3a63-1609-4219-85a2-30165cbc1b07",
   "metadata": {},
   "source": [
    "# **TITULOS**"
   ]
  },
  {
   "cell_type": "markdown",
   "id": "6e6168b4-86c7-4842-a9e7-764340f7b13a",
   "metadata": {},
   "source": [
    "# Heading 1\n",
    "## Heading 2\n",
    "### Heading 3\n",
    "Heading"
   ]
  },
  {
   "cell_type": "markdown",
   "id": "e8bdc9ce-1209-46d9-b1f6-e9856b867086",
   "metadata": {},
   "source": [
    "práctica: escribe tu nombre en heading 2\n",
    "\n"
   ]
  },
  {
   "cell_type": "markdown",
   "id": "caafbaf5-1ea6-43f7-a783-edb737f85f78",
   "metadata": {},
   "source": [
    "## Creando Listas Markdown:"
   ]
  },
  {
   "cell_type": "markdown",
   "id": "431cd049-39e1-4822-8c75-ec2a9fc7395d",
   "metadata": {},
   "source": [
    "* Item A\n",
    "    1. Subitem\n",
    "    2. Subitem\n",
    "* Item B\n",
    "    - Subitem\n",
    "    - Subitem\n"
   ]
  },
  {
   "cell_type": "markdown",
   "id": "76a2223a-7dc6-4351-b4de-cb1c8302358a",
   "metadata": {},
   "source": [
    "### Otro ejemplo:\n",
    "1. Fruta\n",
    "  * Manzana\n",
    "  * Naranja\n",
    "  * Banana\n",
    "2. Lacteos\n",
    "  * Leche\n",
    "  * Queso"
   ]
  },
  {
   "cell_type": "markdown",
   "id": "fccc25d6-cc1e-4e73-ad88-4d4b9c1632f9",
   "metadata": {},
   "source": [
    "práctica: crea la siguiente lista 1. Obtener fondos. 2. Hacer el trabajo. *Diseñar *Recolectar *Analizar 3.Escribir 4. Publicar"
   ]
  },
  {
   "cell_type": "markdown",
   "id": "c8962ead-31d0-4d6d-86c9-a992b2b392fd",
   "metadata": {},
   "source": [
    "## Enlaces"
   ]
  },
  {
   "cell_type": "markdown",
   "id": "694c8c0b-484d-432e-8578-f0ada0659cef",
   "metadata": {},
   "source": [
    "Los saltos de línea\n",
    "no importan.\n",
    "\n",
    "Pero líneas en blanco\n",
    "crean párrafos nuevos.\n",
    "Los saltos de línea no importan.\n",
    "\n",
    "Pero líneas en blanco crean párrafos nuevos.\n",
    "\n",
    "[Crea enlaces](http://software-carpentry.org) con `[...](...)`.\n",
    "O usa el [nombre del enlace][Open_Science_Labs].\n",
    "\n",
    "[Open_Science_Labs]: https://opensciencelabs.org/"
   ]
  },
  {
   "cell_type": "markdown",
   "id": "d2aa7816-a062-4b48-b8a7-0bbc02b1ed2d",
   "metadata": {},
   "source": [
    "práctica: crea un enlace, haz clik aqui\n"
   ]
  },
  {
   "cell_type": "markdown",
   "id": "2f5c86ba-1ed3-47f2-b140-2573786e748e",
   "metadata": {},
   "source": [
    "## Insertar Imágenes:"
   ]
  },
  {
   "cell_type": "code",
   "execution_count": null,
   "id": "cfb32e25-a6a7-44e3-bb83-1a25429f35b5",
   "metadata": {},
   "outputs": [],
   "source": [
    "# ![](ruta-a-la-imagen.extensión)"
   ]
  },
  {
   "cell_type": "markdown",
   "id": "234e0a62-e888-458a-9e65-47935b574a37",
   "metadata": {},
   "source": [
    "\n",
    "![](https://commonmark.org/help/images/favicon.png)"
   ]
  },
  {
   "cell_type": "markdown",
   "id": "f21ebda7-b487-426e-85b9-0fdaf3a227fd",
   "metadata": {},
   "source": [
    "## Ecuaciones"
   ]
  },
  {
   "cell_type": "markdown",
   "id": "6c35ddab-1388-4deb-8bd6-d17db5370ffc",
   "metadata": {},
   "source": [
    "Markdown estándar (como el que estamos usando para estas notas) no mostrará ecuaciones, pero el Cuaderno lo hará. "
   ]
  },
  {
   "cell_type": "markdown",
   "id": "cef15559-14e9-4d73-87cb-a89fc72f2d94",
   "metadata": {},
   "source": [
    "Las ecuaciones en Markdown funcionan bajo  marcaciones **Latex.** Para insertar una, basta con agregar un signo pesos al principio y al final de la ecuación. "
   ]
  },
  {
   "cell_type": "markdown",
   "id": "b0f2d91c-63ba-4b08-b3ec-87f00c008b75",
   "metadata": {},
   "source": [
    "$x =$\n",
    "$4* cos(x)*$\n",
    "$43 x^3+x^2-2$\n",
    "$4* x * cos(x)* tan(x)$\n",
    "$*\\pi$ "
   ]
  },
  {
   "cell_type": "markdown",
   "id": "792a6dfd-ad45-4fc1-9ed9-088b9d43fc71",
   "metadata": {},
   "source": [
    "$\\sum_{i=1}^{N} 2^{-i} \\approx 1$\n",
    "(Probablemente sea más fácil copiar y pegar.) ¿Qué muestra? ¿Qué piensas que hace el subguión, _, circunflejo, ^, y el signo de dólar, $?\n"
   ]
  },
  {
   "cell_type": "markdown",
   "id": "4d2494c8-f26f-4de5-944e-d50afc27c731",
   "metadata": {},
   "source": [
    "El cuaderno muestra la ecuación tal como se representaría a partir de la sintaxis de ecuación de LaTeX. El signo de dólar, $, se usa para indicarle a Markdown que el texto intermedio es una ecuación de LaTeX. Si no está familiarizado con LaTeX, el guion bajo, _, se usa para subíndices y el circunflejo, ^ , se usa para superíndices. Se usa un par de llaves, { y }, para agrupar el texto de manera que la declaracióni=1 se convierta en el subíndice y N se convierta en el superíndice. Similarmente, -i está entre llaves para hacer que toda la declaración sea el superíndice de 2. \\sum y \\approx son comandos LaTeX para símbolos de “suma” y “aproximado”."
   ]
  },
  {
   "cell_type": "markdown",
   "id": "4eb7f7d5-3b4e-4b79-af39-75f25c099469",
   "metadata": {},
   "source": [
    "**Otros ejemplos**"
   ]
  },
  {
   "cell_type": "markdown",
   "id": "570f7a31-4692-4f70-9452-8b128ecd4f50",
   "metadata": {},
   "source": [
    "$\\begin{equation}\n",
    "\\sqrt{y\\,a} = \\sqrt[n]{b}\n",
    "\\end{equation}$"
   ]
  },
  {
   "cell_type": "markdown",
   "id": "e11f766f-6ec7-4fd5-98bc-1b3c584a7132",
   "metadata": {},
   "source": [
    "Algo más complicado\n",
    "\n",
    " $\n",
    "    \\mathbf{V}_1 \\times \\mathbf{V}_2 =      \\begin{vmatrix}\n",
    "    \\mathbf{i} & \\mathbf{j} & \\mathbf{k} \\\\\n",
    "    \\frac{\\partial X}{\\partial u} &     \\frac{\\partial Y}{\\partial u} & 0 \\\\\n",
    "    \\frac{\\partial X}{\\partial v} &     \\frac{\\partial Y}{\\partial v} & 0\n",
    "    \\end{vmatrix}\n",
    "  $"
   ]
  },
  {
   "cell_type": "markdown",
   "id": "5372190a-ff3a-4025-8368-3f2e4289b5ce",
   "metadata": {},
   "source": [
    "Límites:\n",
    "    \n",
    "$\\begin{equation}\n",
    "\\lim_{x \\to \\infty} \\frac{\\sin(x)}{x} = 0\n",
    "\\end{equation}$"
   ]
  },
  {
   "cell_type": "markdown",
   "id": "d0817527-d4ca-4325-a566-8e3a5950b1cc",
   "metadata": {},
   "source": [
    "# Puntos Clave"
   ]
  },
  {
   "cell_type": "markdown",
   "id": "46b2c9ea-a426-4781-8447-ef04d12fac43",
   "metadata": {},
   "source": [
    "* Los scripts de Python son archivos de texto plano.\n",
    "\n",
    "* Usa un cuaderno Juypiter Lab para editar y correr Python.\n",
    "\n",
    "* El Cuaderno tiene celdas de Comandos y Edición.\n",
    "\n",
    "* Usa el teclado y el ratón para seleccionar y editar celdas.\n",
    "\n",
    "* El Cuaderno convertirá Markdown en texto con formato."
   ]
  },
  {
   "cell_type": "markdown",
   "id": "157ca9d2-2f76-4bd0-81c7-cec48317c307",
   "metadata": {},
   "source": [
    "# Buen trabajo!!! "
   ]
  },
  {
   "cell_type": "markdown",
   "id": "97fdd0a7-b535-49e2-8a96-b9bacc729f67",
   "metadata": {},
   "source": [
    "### En la Sesión 2\n",
    "### Veremos celdas de comando: variables y asignación"
   ]
  },
  {
   "cell_type": "code",
   "execution_count": null,
   "id": "5c0dc80d-6f75-4df4-bbd2-2d0133937dc4",
   "metadata": {},
   "outputs": [],
   "source": []
  }
 ],
 "metadata": {
  "kernelspec": {
   "display_name": "Python 3",
   "language": "python",
   "name": "python3"
  },
  "language_info": {
   "codemirror_mode": {
    "name": "ipython",
    "version": 3
   },
   "file_extension": ".py",
   "mimetype": "text/x-python",
   "name": "python",
   "nbconvert_exporter": "python",
   "pygments_lexer": "ipython3",
   "version": "3.8.8"
  }
 },
 "nbformat": 4,
 "nbformat_minor": 5
}
